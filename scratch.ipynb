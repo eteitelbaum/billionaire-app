{
 "cells": [
  {
   "cell_type": "code",
   "execution_count": 1,
   "metadata": {},
   "outputs": [
    {
     "name": "stdout",
     "output_type": "stream",
     "text": [
      "There are 5301 unique billionaires in the dataset\n",
      "\n",
      "First 5 unique names as example:\n",
      "['Chatri Sophonpanich & family' 'King Bhumibol Adulyadej' 'Edmond Safra'\n",
      " 'Srichand & Gopichand Hinduja' 'Dieter Schwarz']\n"
     ]
    }
   ],
   "source": [
    "import pandas as pd\n",
    "\n",
    "# Read the CSV file\n",
    "df = pd.read_csv('billionaire_data.csv')\n",
    "\n",
    "# Count unique names\n",
    "unique_count = df['full_name'].nunique()\n",
    "\n",
    "# Get the list of unique names (optional)\n",
    "unique_names = df['full_name'].unique()\n",
    "\n",
    "print(f\"There are {unique_count} unique billionaires in the dataset\")\n",
    "\n",
    "# Optional: Display first few unique names\n",
    "print(\"\\nFirst 5 unique names as example:\")\n",
    "print(unique_names[:5])"
   ]
  }
 ],
 "metadata": {
  "kernelspec": {
   "display_name": "billionaire_env",
   "language": "python",
   "name": "billionaire_env"
  },
  "language_info": {
   "codemirror_mode": {
    "name": "ipython",
    "version": 3
   },
   "file_extension": ".py",
   "mimetype": "text/x-python",
   "name": "python",
   "nbconvert_exporter": "python",
   "pygments_lexer": "ipython3",
   "version": "3.12.5"
  }
 },
 "nbformat": 4,
 "nbformat_minor": 2
}
