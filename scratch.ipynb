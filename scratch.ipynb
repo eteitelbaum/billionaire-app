{
 "cells": [
  {
   "cell_type": "code",
   "execution_count": 1,
   "metadata": {},
   "outputs": [
    {
     "name": "stdout",
     "output_type": "stream",
     "text": [
      "   year  rank  net_worth                     full_name   age gender  \\\n",
      "0  1997   NaN        2.0  Chatri Sophonpanich & family  73.0   Male   \n",
      "1  1997   NaN        1.8       King Bhumibol Adulyadej  69.0   Male   \n",
      "2  1998   NaN        3.3                  Edmond Safra  65.0   Male   \n",
      "3  1999   NaN        1.0  Srichand & Gopichand Hinduja   NaN    NaN   \n",
      "4  1999   NaN        7.1                Dieter Schwarz  59.0   Male   \n",
      "\n",
      "  country_of_citizenship country_of_residence city_of_residence  \\\n",
      "0               Thailand             Thailand           Bangkok   \n",
      "1               Thailand                  NaN               NaN   \n",
      "2                Lebanon              Lebanon               NaN   \n",
      "3                  India       United Kingdom            London   \n",
      "4                Germany              Germany        Neckarsulm   \n",
      "\n",
      "  organization_name                 industry  \n",
      "0               NaN  Finance and Investments  \n",
      "1               NaN                      NaN  \n",
      "2               NaN                      NaN  \n",
      "3               NaN                      NaN  \n",
      "4               NaN         Fashion & Retail  \n"
     ]
    }
   ],
   "source": [
    "import pandas as pd\n",
    "\n",
    "df = pd.read_csv('billionaire_data.csv')\n",
    "\n",
    "print(df.head())"
   ]
  }
 ],
 "metadata": {
  "kernelspec": {
   "display_name": "billionaire_env",
   "language": "python",
   "name": "billionaire_env"
  },
  "language_info": {
   "codemirror_mode": {
    "name": "ipython",
    "version": 3
   },
   "file_extension": ".py",
   "mimetype": "text/x-python",
   "name": "python",
   "nbconvert_exporter": "python",
   "pygments_lexer": "ipython3",
   "version": "3.12.5"
  }
 },
 "nbformat": 4,
 "nbformat_minor": 2
}
